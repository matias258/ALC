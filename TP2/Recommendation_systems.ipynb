{
  "cells": [
    {
      "cell_type": "markdown",
      "metadata": {
        "id": "V_LLhoEIRHPa"
      },
      "source": [
        "# TP 2"
      ]
    },
    {
      "cell_type": "markdown",
      "metadata": {
        "id": "CuMLhRW4RKG_"
      },
      "source": [
        "## Ejercicio 1: Recomendación de vinos."
      ]
    },
    {
      "cell_type": "code",
      "execution_count": 1,
      "metadata": {
        "id": "sjthKI8sKOpf"
      },
      "outputs": [],
      "source": [
        "import numpy as np\n",
        "import scipy as sp\n",
        "import pandas as pd\n",
        "import matplotlib.pyplot as plt"
      ]
    },
    {
      "cell_type": "markdown",
      "metadata": {
        "id": "0ySqxWTuSxf5"
      },
      "source": [
        "\n",
        "\n",
        "### A) Descargar los Datos"
      ]
    },
    {
      "cell_type": "code",
      "execution_count": 2,
      "metadata": {
        "colab": {
          "base_uri": "https://localhost:8080/",
          "height": 73
        },
        "id": "al1_RAjTu6IU",
        "outputId": "7cc30c60-6a2b-427e-a209-239117f38f55"
      },
      "outputs": [
        {
          "output_type": "display_data",
          "data": {
            "text/plain": [
              "<IPython.core.display.HTML object>"
            ],
            "text/html": [
              "\n",
              "     <input type=\"file\" id=\"files-a9f230c2-0eea-4dae-aedf-2681fba43e97\" name=\"files[]\" multiple disabled\n",
              "        style=\"border:none\" />\n",
              "     <output id=\"result-a9f230c2-0eea-4dae-aedf-2681fba43e97\">\n",
              "      Upload widget is only available when the cell has been executed in the\n",
              "      current browser session. Please rerun this cell to enable.\n",
              "      </output>\n",
              "      <script>// Copyright 2017 Google LLC\n",
              "//\n",
              "// Licensed under the Apache License, Version 2.0 (the \"License\");\n",
              "// you may not use this file except in compliance with the License.\n",
              "// You may obtain a copy of the License at\n",
              "//\n",
              "//      http://www.apache.org/licenses/LICENSE-2.0\n",
              "//\n",
              "// Unless required by applicable law or agreed to in writing, software\n",
              "// distributed under the License is distributed on an \"AS IS\" BASIS,\n",
              "// WITHOUT WARRANTIES OR CONDITIONS OF ANY KIND, either express or implied.\n",
              "// See the License for the specific language governing permissions and\n",
              "// limitations under the License.\n",
              "\n",
              "/**\n",
              " * @fileoverview Helpers for google.colab Python module.\n",
              " */\n",
              "(function(scope) {\n",
              "function span(text, styleAttributes = {}) {\n",
              "  const element = document.createElement('span');\n",
              "  element.textContent = text;\n",
              "  for (const key of Object.keys(styleAttributes)) {\n",
              "    element.style[key] = styleAttributes[key];\n",
              "  }\n",
              "  return element;\n",
              "}\n",
              "\n",
              "// Max number of bytes which will be uploaded at a time.\n",
              "const MAX_PAYLOAD_SIZE = 100 * 1024;\n",
              "\n",
              "function _uploadFiles(inputId, outputId) {\n",
              "  const steps = uploadFilesStep(inputId, outputId);\n",
              "  const outputElement = document.getElementById(outputId);\n",
              "  // Cache steps on the outputElement to make it available for the next call\n",
              "  // to uploadFilesContinue from Python.\n",
              "  outputElement.steps = steps;\n",
              "\n",
              "  return _uploadFilesContinue(outputId);\n",
              "}\n",
              "\n",
              "// This is roughly an async generator (not supported in the browser yet),\n",
              "// where there are multiple asynchronous steps and the Python side is going\n",
              "// to poll for completion of each step.\n",
              "// This uses a Promise to block the python side on completion of each step,\n",
              "// then passes the result of the previous step as the input to the next step.\n",
              "function _uploadFilesContinue(outputId) {\n",
              "  const outputElement = document.getElementById(outputId);\n",
              "  const steps = outputElement.steps;\n",
              "\n",
              "  const next = steps.next(outputElement.lastPromiseValue);\n",
              "  return Promise.resolve(next.value.promise).then((value) => {\n",
              "    // Cache the last promise value to make it available to the next\n",
              "    // step of the generator.\n",
              "    outputElement.lastPromiseValue = value;\n",
              "    return next.value.response;\n",
              "  });\n",
              "}\n",
              "\n",
              "/**\n",
              " * Generator function which is called between each async step of the upload\n",
              " * process.\n",
              " * @param {string} inputId Element ID of the input file picker element.\n",
              " * @param {string} outputId Element ID of the output display.\n",
              " * @return {!Iterable<!Object>} Iterable of next steps.\n",
              " */\n",
              "function* uploadFilesStep(inputId, outputId) {\n",
              "  const inputElement = document.getElementById(inputId);\n",
              "  inputElement.disabled = false;\n",
              "\n",
              "  const outputElement = document.getElementById(outputId);\n",
              "  outputElement.innerHTML = '';\n",
              "\n",
              "  const pickedPromise = new Promise((resolve) => {\n",
              "    inputElement.addEventListener('change', (e) => {\n",
              "      resolve(e.target.files);\n",
              "    });\n",
              "  });\n",
              "\n",
              "  const cancel = document.createElement('button');\n",
              "  inputElement.parentElement.appendChild(cancel);\n",
              "  cancel.textContent = 'Cancel upload';\n",
              "  const cancelPromise = new Promise((resolve) => {\n",
              "    cancel.onclick = () => {\n",
              "      resolve(null);\n",
              "    };\n",
              "  });\n",
              "\n",
              "  // Wait for the user to pick the files.\n",
              "  const files = yield {\n",
              "    promise: Promise.race([pickedPromise, cancelPromise]),\n",
              "    response: {\n",
              "      action: 'starting',\n",
              "    }\n",
              "  };\n",
              "\n",
              "  cancel.remove();\n",
              "\n",
              "  // Disable the input element since further picks are not allowed.\n",
              "  inputElement.disabled = true;\n",
              "\n",
              "  if (!files) {\n",
              "    return {\n",
              "      response: {\n",
              "        action: 'complete',\n",
              "      }\n",
              "    };\n",
              "  }\n",
              "\n",
              "  for (const file of files) {\n",
              "    const li = document.createElement('li');\n",
              "    li.append(span(file.name, {fontWeight: 'bold'}));\n",
              "    li.append(span(\n",
              "        `(${file.type || 'n/a'}) - ${file.size} bytes, ` +\n",
              "        `last modified: ${\n",
              "            file.lastModifiedDate ? file.lastModifiedDate.toLocaleDateString() :\n",
              "                                    'n/a'} - `));\n",
              "    const percent = span('0% done');\n",
              "    li.appendChild(percent);\n",
              "\n",
              "    outputElement.appendChild(li);\n",
              "\n",
              "    const fileDataPromise = new Promise((resolve) => {\n",
              "      const reader = new FileReader();\n",
              "      reader.onload = (e) => {\n",
              "        resolve(e.target.result);\n",
              "      };\n",
              "      reader.readAsArrayBuffer(file);\n",
              "    });\n",
              "    // Wait for the data to be ready.\n",
              "    let fileData = yield {\n",
              "      promise: fileDataPromise,\n",
              "      response: {\n",
              "        action: 'continue',\n",
              "      }\n",
              "    };\n",
              "\n",
              "    // Use a chunked sending to avoid message size limits. See b/62115660.\n",
              "    let position = 0;\n",
              "    do {\n",
              "      const length = Math.min(fileData.byteLength - position, MAX_PAYLOAD_SIZE);\n",
              "      const chunk = new Uint8Array(fileData, position, length);\n",
              "      position += length;\n",
              "\n",
              "      const base64 = btoa(String.fromCharCode.apply(null, chunk));\n",
              "      yield {\n",
              "        response: {\n",
              "          action: 'append',\n",
              "          file: file.name,\n",
              "          data: base64,\n",
              "        },\n",
              "      };\n",
              "\n",
              "      let percentDone = fileData.byteLength === 0 ?\n",
              "          100 :\n",
              "          Math.round((position / fileData.byteLength) * 100);\n",
              "      percent.textContent = `${percentDone}% done`;\n",
              "\n",
              "    } while (position < fileData.byteLength);\n",
              "  }\n",
              "\n",
              "  // All done.\n",
              "  yield {\n",
              "    response: {\n",
              "      action: 'complete',\n",
              "    }\n",
              "  };\n",
              "}\n",
              "\n",
              "scope.google = scope.google || {};\n",
              "scope.google.colab = scope.google.colab || {};\n",
              "scope.google.colab._files = {\n",
              "  _uploadFiles,\n",
              "  _uploadFilesContinue,\n",
              "};\n",
              "})(self);\n",
              "</script> "
            ]
          },
          "metadata": {}
        },
        {
          "output_type": "stream",
          "name": "stdout",
          "text": [
            "Saving wine.csv to wine.csv\n"
          ]
        }
      ],
      "source": [
        "#Importo los datos de la csv\n",
        "\n",
        "from google.colab import files\n",
        "wine = files.upload()"
      ]
    },
    {
      "cell_type": "markdown",
      "metadata": {
        "id": "Y9b2MJIkT4VJ"
      },
      "source": [
        "### B) Variables Independientes y Dependientes"
      ]
    },
    {
      "cell_type": "markdown",
      "metadata": {
        "id": "homzv_hbUJzb"
      },
      "source": [
        "- Definimos las variables independientes como las características de los vinos que sólo dependen del input.\n",
        "\n",
        "- Definomos las variables dependientes como las características de los vinos que dependen de otras características.\n",
        "\n",
        "\n",
        "---\n",
        "\n",
        "\n",
        "\n",
        " **Variables Independientes**:\n",
        "\n",
        "Alcohol, Malic_Acid, Ash, Ash_Alcanity, Magnesium, Total_Phenols, Flavanoids, Nonflavanoid_Phenols, Proanthocyanins, Color_Intensity, Hue, OD280, Proline\n",
        "\n",
        " **Variables Dependientes**:\n",
        "\n",
        "Customer_Segment\n"
      ]
    },
    {
      "cell_type": "markdown",
      "metadata": {
        "id": "7EIlyC9YU0y-"
      },
      "source": [
        "### C) Normalizar y Centrar los Datos"
      ]
    },
    {
      "cell_type": "markdown",
      "metadata": {
        "id": "JgOa3-oaTyco"
      },
      "source": [
        "Primero vamos a obtener todos los datos de wine.csv salvo los títulos."
      ]
    },
    {
      "cell_type": "code",
      "execution_count": 3,
      "metadata": {
        "id": "esUH5z2yVI-y"
      },
      "outputs": [],
      "source": [
        "Datos = np.loadtxt(\"wine.csv\", usecols = [0,1,2,3,4,5,6,7,8,9,10,11,12,13], delimiter=\",\", skiprows=1, dtype= float)"
      ]
    },
    {
      "cell_type": "code",
      "source": [
        "print(Datos)"
      ],
      "metadata": {
        "colab": {
          "base_uri": "https://localhost:8080/"
        },
        "id": "AQI7oHlAX1hD",
        "outputId": "9dcc6271-b221-4ed5-ba5a-6fcaf774d173"
      },
      "execution_count": 4,
      "outputs": [
        {
          "output_type": "stream",
          "name": "stdout",
          "text": [
            "[[1.423e+01 1.710e+00 2.430e+00 ... 3.920e+00 1.065e+03 1.000e+00]\n",
            " [1.320e+01 1.780e+00 2.140e+00 ... 3.400e+00 1.050e+03 1.000e+00]\n",
            " [1.316e+01 2.360e+00 2.670e+00 ... 3.170e+00 1.185e+03 1.000e+00]\n",
            " ...\n",
            " [1.327e+01 4.280e+00 2.260e+00 ... 1.560e+00 8.350e+02 3.000e+00]\n",
            " [1.317e+01 2.590e+00 2.370e+00 ... 1.620e+00 8.400e+02 3.000e+00]\n",
            " [1.413e+01 4.100e+00 2.740e+00 ... 1.600e+00 5.600e+02 3.000e+00]]\n"
          ]
        }
      ]
    },
    {
      "cell_type": "code",
      "execution_count": 5,
      "metadata": {
        "id": "MLTWzH3NpWFb"
      },
      "outputs": [],
      "source": [
        "# En A nos quedamos con toda la matriz salvo \"Customer Segment\". que la guardaremos en segmentos.\n",
        "n = np.shape(Datos)\n",
        "A = Datos[:,:n[1]-1]\n",
        "segmentos = Datos[:,n[1]-1]\n"
      ]
    },
    {
      "cell_type": "markdown",
      "metadata": {
        "id": "mn7tExf5UGuf"
      },
      "source": [
        "Luego vamos a realizar las operaciones para normalizar y centrar estos datos:\n",
        "\n",
        "- $x_i = \\dfrac{(X_i - \\bar{X})}{s} $ $\\rightarrow $ nuevos valores de la matriz normalizada\n",
        "\n",
        "- $ \\bar{X} = (\\dfrac{\\sum_{i = 1}^{N} X_i}{N})$ $\\rightarrow \\bar{X} $  será el promedio\n",
        "\n",
        "- $s = \\sqrt{\\dfrac{1}{N}\\sum_{i = 4}^{N} (X_i - \\bar{X})^{2}} $ $\\rightarrow $ desvío estándar"
      ]
    },
    {
      "cell_type": "markdown",
      "source": [
        "- Definimos una función que calcule, por columna, los promedios y desvíos standard de cada una, y devuelva dos listas, una con los promedios y la segunda con los desvíos\n",
        "\n",
        "**Input:** Matriz $A \\in R^{nxm}$\n",
        "\n",
        "**Output:** Lista con promedios y lista con desvíos standard"
      ],
      "metadata": {
        "id": "ClJivQ4j_1ep"
      }
    },
    {
      "cell_type": "code",
      "source": [
        "def promedio_desvio(A):\n",
        "  filas = np.shape(A)[0]\n",
        "  columnas = np.shape(A)[1]\n",
        "  lista_prom = [] #lista con los promedios del conjunto de observaciones de cada característica\n",
        "  lista_s = []    #lista con los desvíos standard del conjunto de observaciones de cada característica\n",
        "\n",
        "  for j in range(columnas):\n",
        "    promedio = np.mean(A[0:filas, j])\n",
        "    sumatoria = 0\n",
        "    lista_prom.append(promedio)   #Guardamos la lista con los promedios de cada columna\n",
        "\n",
        "    for i in range(filas):\n",
        "      sumatoria += (A[i,j] - promedio)**2\n",
        "    s = np.sqrt((1/filas)* sumatoria)\n",
        "    lista_s.append(s)             #Guardamos la lista con los desvios estandar de cada columna\n",
        "\n",
        "  return lista_prom, lista_s\n",
        "\n"
      ],
      "metadata": {
        "id": "3SoG0bAeFY9P"
      },
      "execution_count": 6,
      "outputs": []
    },
    {
      "cell_type": "markdown",
      "source": [
        "- Definimos una función normalizar, que tome una Matriz de nxm y normalice los datos.\n",
        "\n",
        "**Input:** Matriz $A \\in R^{nxm}$\n",
        "\n",
        "**Output:** Matriz $Anorm \\in R^{nxm}$"
      ],
      "metadata": {
        "id": "jb66M5fgAGWJ"
      }
    },
    {
      "cell_type": "code",
      "source": [
        "def normalizar (A):\n",
        "  filas = np.shape(A)[0]\n",
        "  columnas = np.shape(A)[1]\n",
        "  Anorm = np.zeros((filas, columnas))\n",
        "  lista_prom = promedio_desvio(A)[0]\n",
        "  lista_s = promedio_desvio(A)[1]\n",
        "\n",
        "  for j in range(columnas):\n",
        "    for i in range(filas):\n",
        "      Anorm[i,j] = (A[i,j]-lista_prom[j])/lista_s[j]\n",
        "  return Anorm"
      ],
      "metadata": {
        "id": "Vb0ERF0CF5pq"
      },
      "execution_count": 7,
      "outputs": []
    },
    {
      "cell_type": "markdown",
      "metadata": {
        "id": "sSeubQoueMAk"
      },
      "source": [
        "***¿Por qué es importante este paso?***\n",
        "\n",
        "- Al normalizar los datos estamos obteniendo como resultado valores entre 0 y 1, es decir los porcentajes de cada característica dado un vino.\n",
        "Ésto es óptimo para poder luego relacionarlos usando la Covarianza.\n",
        "\n",
        "- El querer centrar los datos nos elimina cualquier sesgo que pueda existir al querer operar con ellos. Evitando así que se modifique su elasticidad al hacer operaciones con matrices."
      ]
    },
    {
      "cell_type": "markdown",
      "metadata": {
        "id": "YfJleD0peE6h"
      },
      "source": [
        "### D) Matriz de Covarianza"
      ]
    },
    {
      "cell_type": "markdown",
      "metadata": {
        "id": "cwzz1i2KnTxr"
      },
      "source": [
        "Una vez centrado y normalizado el csv anterior se puede calcular la Covarianza."
      ]
    },
    {
      "cell_type": "markdown",
      "metadata": {
        "id": "SonDIQYQHeDX"
      },
      "source": [
        "Ésta se calcula de la siguiente manera:\n",
        "\n",
        "- Asumimos A una matriz normalizada y centrada.  \n",
        "- Entonces la Covarianza de A es:\n",
        "\n",
        "\n",
        "> $A =  \\frac{A^{T}A}{N}$\n",
        "\n",
        "Donde $N$ es la fila (o columna) de la matriz A normalizada.\n"
      ]
    },
    {
      "cell_type": "markdown",
      "source": [
        "**Input:** Matriz $Anorm \\in R^{nxm}$\n",
        "\n",
        "**Output:** Matriz $Acov \\in R^{mxm}$"
      ],
      "metadata": {
        "id": "lFUonRdwAPo6"
      }
    },
    {
      "cell_type": "code",
      "execution_count": 8,
      "metadata": {
        "id": "EJCQauXunyUw"
      },
      "outputs": [],
      "source": [
        "def cov(normA):\n",
        "  N = np.shape(normA)[0]\n",
        "  Acov =  (np.transpose(normA) @ normA)*(1/N)\n",
        "  return Acov\n"
      ]
    },
    {
      "cell_type": "markdown",
      "metadata": {
        "id": "LWEXribIp6JW"
      },
      "source": [
        "**¿Qué representa la matriz de covarianza?**\n",
        "\n",
        "- La matriz de covarianza representa la relacion lineal entre cada variable (centrada y normalizada) con ella misma (en la diagonal) y las otras. Nos muestra cómo se relacionan entre ellas.\n",
        "\n",
        "---\n",
        "\n",
        "**¿Qué dimensiones tiene y qué propiedades cumple?**\n",
        "\n",
        "- La matriz de Covarianza de A es una matriz cuadrada de dimensión m x m (En nuestro caso es 13 x 13).\n",
        "- Donde m es la cantidad de características que queremos comparar (es decir las variables independientes entre ellas)."
      ]
    },
    {
      "cell_type": "markdown",
      "metadata": {
        "id": "49gwrjrlnj1G"
      },
      "source": [
        "### E) Calcular autovectores y autovalores"
      ]
    },
    {
      "cell_type": "markdown",
      "source": [
        "Para calcular el máximo de los autovalores y su correspondiente autovector, vamos a usar el método de la potencia y la ecuación de Rayleigh.\n",
        "\n",
        "---\n",
        "\n",
        "La primera ecuación nos devolverá el autovector máximo de A:\n",
        "\n",
        "- $ v^{(k)} = \\frac{Av^{(k-1)}}{\\lVert Av^{(k-1)} \\rVert} $\n",
        "\n",
        "Luego, con la $2^{da}$ ecuación obtenemos el autovalor máximo asociado al autovector máximo ($ v^{(k)} $) encontrado anteriormente.\n",
        "\n",
        "- $ r^{(k)} = \\frac{(v^{(k)})^{t}Av^{(k)}}{(v^{(k)})^{t}v^{(k)}} $"
      ],
      "metadata": {
        "id": "_-u0WbbzuVj1"
      }
    },
    {
      "cell_type": "markdown",
      "source": [
        "**Input:** vector de inicio, Matriz $Acov \\in R^{mxm}$\n",
        "\n",
        "**Output**: $λ_{max}$, $v_{max}$"
      ],
      "metadata": {
        "id": "x2FIPwPfAhj1"
      }
    },
    {
      "cell_type": "code",
      "execution_count": 9,
      "metadata": {
        "id": "y-VEznGRvFkC"
      },
      "outputs": [],
      "source": [
        "#generamos un vector random que luego usaremos para iniciar el método de la potencia\n",
        "vector_random = np.random.rand(cov(normalizar(A)).shape[0])\n",
        "def metodoPotencia(v, covA):\n",
        "  vk = covA@v / np.linalg.norm(covA@v)\n",
        "  if (np.allclose(vk, v)):\n",
        "    return  v@covA@v/(v@v), np.matrix.flatten(vk)\n",
        "  else:\n",
        "    return metodoPotencia(vk, covA)"
      ]
    },
    {
      "cell_type": "markdown",
      "source": [
        "Explicación:\n",
        "\n",
        "- Dada una matriz A $\\in K^{nxn}$, vamos a hacer la operación escrita arriba con un vector v $\\in K^{n}$ hasta que las diferencias de los resultados obtenidos en cada iteración sean casi idénticos.\n",
        "Al llegar a ese caso, retornaremos una tupla con el vector encontrado y el autovalor asociado:\n",
        "\n",
        "```\n",
        "return (v@covA@v/(v@v), v)\n",
        "```\n",
        "Donde:\n",
        "- v = $v_{max}$\n",
        "- $\\frac{vAv}{vv}$ = $\\lambda_{max}$\n",
        "\n"
      ],
      "metadata": {
        "id": "fM0_3f5bw3-8"
      }
    },
    {
      "cell_type": "markdown",
      "source": [
        "### F) Extender a \"n\" la función"
      ],
      "metadata": {
        "id": "DVKw8Ok4yxBS"
      }
    },
    {
      "cell_type": "markdown",
      "source": [
        "Queremos encontrar \"n\" autovalores y autovectores asociados. Para ésto vamos a iterar n veces el método de la potencia ya implementado pero modificando la matriz cada vez.\n",
        "\n",
        "Ésta modificación será:\n",
        "- A = A - $\\lambda_{max}(v_{max})^{t}v_{max}$\n",
        "\n",
        "\n",
        "La nueva matriz A, al hacerle Método de la Potencia, nos devolverá los siguientes $v_{max}$ y $\\lambda_{max}$.\n",
        "\n",
        "Iteraremos esta función hasta llegar a \"n\" resultados de autovectores y autovalores.\n",
        "\n",
        "Por último, guardaremos los valores obtenidos en dos listas, para así poder retornarlas al terminar la función:\n",
        "- avals\n",
        "- avecs\n",
        "\n",
        "Obtendremos los autovalores ordenados decrecientemente en \"avals\"."
      ],
      "metadata": {
        "id": "aH8qSlcQzEZq"
      }
    },
    {
      "cell_type": "markdown",
      "source": [
        "**Input:** Matriz $Acov \\in R^{mxm}$, cantidad n de autovectores que se desean devolver\n",
        "\n",
        "**Output:** lista de \"n\" $λ$, lista de \"n\" $v$."
      ],
      "metadata": {
        "id": "i0RI6PTNBc2l"
      }
    },
    {
      "cell_type": "code",
      "execution_count": 10,
      "metadata": {
        "id": "Xph6oDgYS-Ga"
      },
      "outputs": [],
      "source": [
        "def ExtPotencia(covA, n):\n",
        "  avals = []\n",
        "  avecs = []\n",
        "  N = covA.shape[0]\n",
        "  B = covA.copy()\n",
        "  v = vector_random\n",
        "  for i in range (n):\n",
        "    aval, avec = metodoPotencia(v, B)\n",
        "    avals.append(aval)\n",
        "    avecs.append(avec)\n",
        "    B = B - aval * np.outer(avec, avec)   # B = B - aval * (avec^t * avec)\n",
        "  return avals, avecs #nos devuelve una lista de autovalores, y otra lista de autovectores"
      ]
    },
    {
      "cell_type": "markdown",
      "source": [
        "Prueba para validar que A*v = λ*v.\n",
        "\n"
      ],
      "metadata": {
        "id": "CImKX6SAMhxg"
      }
    },
    {
      "cell_type": "markdown",
      "source": [
        "\n",
        "- ¿Cómo se relaciona la cantidad de autovalores con la cantidad de propiedades de los vinos?\n",
        "\n",
        "\n",
        "La cantidad de autovectores coincide exactamente con la cantidad de características de los vinos.\n",
        "\n",
        "----\n",
        "- ¿Qué representan cada unos de los autovectores correspondientes?\n",
        "\n",
        "\n",
        "Los autovectores representan las direcciones sobre las cuales la varianza es mayor.\n",
        "\n",
        "Como lo calculamos, lo ordenamos de la dirección de mayor (autovector que corresponde al máximo autovalor) a menor varianza (autovector que corresponde al autovalor mínimo)."
      ],
      "metadata": {
        "id": "36XFi5CWp9nH"
      }
    },
    {
      "cell_type": "markdown",
      "source": [
        "### G) Modelo PCA"
      ],
      "metadata": {
        "id": "TdrkMuZWi8M-"
      }
    },
    {
      "cell_type": "markdown",
      "source": [
        "- Definimos una función para normalizar un vector en base a los datos de una Tabla A.\n",
        "\n",
        "\n",
        "----\n",
        "\n",
        "\n",
        "**Input:** un vector (vino) y la Matriz $ A \\in R^{nxm}$ con las observaciones originales\n",
        "\n",
        "**Output:** vector vino normalizado"
      ],
      "metadata": {
        "id": "eSVm_LK3C6wh"
      }
    },
    {
      "cell_type": "code",
      "source": [
        "def normalizarVec(v, A):\n",
        "  promedio = promedio_desvio(A)[0]\n",
        "  s = promedio_desvio(A)[1]\n",
        "  v_norm = v.copy()\n",
        "  for i in range(v.shape[0]):\n",
        "    v_norm[i] = (v[i] - promedio[i]) / s[i]\n",
        "  return v_norm;"
      ],
      "metadata": {
        "id": "bF0XrYUE3VE-"
      },
      "execution_count": 11,
      "outputs": []
    },
    {
      "cell_type": "markdown",
      "source": [
        "- Definimos función para calcular la distancia Euclídea\n",
        "\n",
        "---\n",
        "\n",
        "**Input:** dos vectores de 1xn\n",
        "\n",
        "**Output:** Distancia Euclídea"
      ],
      "metadata": {
        "id": "Y7AdW3VWDRFx"
      }
    },
    {
      "cell_type": "code",
      "source": [
        "def distancia (v1,v2):\n",
        "  distancia_cuadrada = 0\n",
        "  for i in range(v1.shape[0]):\n",
        "    distancia_cuadrada += (v1[i] - v2[i])**2\n",
        "\n",
        "  distancia = np.sqrt(distancia_cuadrada)\n",
        "  return distancia"
      ],
      "metadata": {
        "id": "xeBgmvcmDVQT"
      },
      "execution_count": 12,
      "outputs": []
    },
    {
      "cell_type": "markdown",
      "source": [
        "- Definimos una función para ordenar una lista de tuplas de menor a mayor según el primer elemento de la tupla\n",
        "\n",
        "---\n",
        "\n",
        "**Input:** Lista de tuplas\n",
        "\n",
        "**Output:** Lista de tuplas ordenada de menor a mayor según primer elemento de cada tupla"
      ],
      "metadata": {
        "id": "sI3w-Qh-DjcT"
      }
    },
    {
      "cell_type": "code",
      "source": [
        "def ordenar_tuplas(l):\n",
        "  lista_ordenada = []\n",
        "  ltupla = l.copy()\n",
        "  while ltupla != []:\n",
        "    min_tupla = min(ltupla)\n",
        "    lista_ordenada.append(min_tupla)\n",
        "    ltupla.remove(min_tupla)\n",
        "  return lista_ordenada"
      ],
      "metadata": {
        "id": "bHfeKSuODj6R"
      },
      "execution_count": 13,
      "outputs": []
    },
    {
      "cell_type": "markdown",
      "source": [
        "- Definimos una función que guarde los segundos elementos de las tuplas de una lista de tuplas y nos indique cuál es el más repetido\n",
        "\n",
        "---\n",
        "\n",
        "**Input:** Lista de tuplas\n",
        "\n",
        "**Output:** Integer más repetido"
      ],
      "metadata": {
        "id": "83UTCRaxD0rd"
      }
    },
    {
      "cell_type": "code",
      "source": [
        "def mas_repetido(l):\n",
        "  seg = []\n",
        "  for i in range(len(l)):\n",
        "    seg.append(l[i][1])\n",
        "  mas_rep = max(seg, key=seg.count)\n",
        "  return mas_rep"
      ],
      "metadata": {
        "id": "yrsK6IsHD1As"
      },
      "execution_count": 14,
      "outputs": []
    },
    {
      "cell_type": "markdown",
      "source": [
        "- Definimos una función para segmentar un vino.\n",
        "\n",
        "---\n",
        "\n",
        "**Input:** v un vino, A matriz de Datos de observaciones, n autovectores que se quieren usar para estimar, k elementos más cercanos que se desean obtener y segmentos de las observaciones.\n",
        "\n",
        "**Output:** Lista de tuplas con los k elementos más cercanos, segmento que le corresponde según estimación"
      ],
      "metadata": {
        "id": "v3Og_smDEFIt"
      }
    },
    {
      "cell_type": "code",
      "source": [
        "def segmentar(v,A,n,k,segmentos):\n",
        "  X = normalizar(A)\n",
        "  C = cov(X)\n",
        "  V = np.transpose(ExtPotencia(C, n)[1]) #Armamos la matriz con los n primeros autovectores como columnas\n",
        "  T = X @ V # escribimos la matriz normalizada en base de los n autovectores\n",
        "\n",
        "  vino_norm = normalizarVec(v, A)#normalizamos el vino nuevo\n",
        "  vino = vino_norm @ V #lo escribimos en base de los n autovectores\n",
        "\n",
        "\n",
        "  #Armamos lista de tuplas: (distancias, segmento)\n",
        "  lista_tuplas = []\n",
        "  for i in range(T.shape[0]):\n",
        "    lista_tuplas.append((distancia(T[i],vino), segmentos[i]))\n",
        "\n",
        "  #Ordenamos las listas de tuplas de menor a mayor de acuerdo a las distancias\n",
        "  lista_ordenada = ordenar_tuplas(lista_tuplas)\n",
        "\n",
        "  #Retornamos los k más cercanos\n",
        "  mas_cercanos = lista_ordenada[0:k]\n",
        "\n",
        "  #Retornamos el segmento elegido según los k más cercanos\n",
        "  seg_elegido = mas_repetido(mas_cercanos)\n",
        "\n",
        "  return mas_cercanos, seg_elegido"
      ],
      "metadata": {
        "id": "DYqfK4GZEFt9"
      },
      "execution_count": 15,
      "outputs": []
    },
    {
      "cell_type": "markdown",
      "source": [
        "## Ejercicio 2: Experimentos"
      ],
      "metadata": {
        "id": "J8XnUNRiZfua"
      }
    },
    {
      "cell_type": "markdown",
      "source": [
        "###A) Dividimos el conjunto de Datos en dos, uno para entrenamiento y otro para test"
      ],
      "metadata": {
        "id": "mFqcGvYwkeZI"
      }
    },
    {
      "cell_type": "code",
      "source": [
        "from sklearn.model_selection import StratifiedKFold"
      ],
      "metadata": {
        "id": "05j8rTSrJV0c"
      },
      "execution_count": 16,
      "outputs": []
    },
    {
      "cell_type": "markdown",
      "source": [
        "- **Input:** data matriz de Datos, label segmentos de Datos\n",
        "- **Output:** Train_data (la matriz train), Train_lab (los segmentos train), Test_data (la matriz test), test_lab (los segmentos test)"
      ],
      "metadata": {
        "id": "eFRgASS5Tmcd"
      }
    },
    {
      "cell_type": "code",
      "source": [
        "def splitDataset(data, label):\n",
        "    # split dataset en entrenamiento y test\n",
        "    skf = StratifiedKFold(n_splits=5, shuffle=True) #se utiliza n_splits = 5 para lograr un test del 20% y un train del 80% aprox (como explica en enunciado de TP)\n",
        "    for train, test in skf.split(data.T, label.T):\n",
        "        break\n",
        "    train_data = data[:,train]\n",
        "    train_lab = label[:,train]\n",
        "    test_data = data[:,test]\n",
        "    test_lab = label[:,test]\n",
        "\n",
        "    return train_data, train_lab, test_data, test_lab"
      ],
      "metadata": {
        "id": "TnzloRAlJCPj"
      },
      "execution_count": 17,
      "outputs": []
    },
    {
      "cell_type": "code",
      "source": [
        "train_data, train_lab, test_data, test_lab = splitDataset (np.transpose(A), np.array([segmentos]))\n",
        "\n",
        "#Separamos en una matriz A_train los componentes independientes y en segmentos el componente dependiente\n",
        "A_train = np.transpose(train_data)\n",
        "segmentos_train = train_lab[0]\n",
        "\n",
        "#Separamos en una matriz A_test los componentes independientes y en segmentos el componente dependiente\n",
        "A_test = np.transpose(test_data)\n",
        "segmentos_test = test_lab[0]"
      ],
      "metadata": {
        "id": "Tn0xWj8tZj2I"
      },
      "execution_count": 18,
      "outputs": []
    },
    {
      "cell_type": "markdown",
      "source": [
        " Definimos función para segmentar todos los vinos de la matriz Test\n",
        "\n",
        "---\n",
        "\n",
        "**Input:** Matriz test, cantidad componentes principales, k cantidad de elementos más cercanos que se desea usar, matriz A_train segmentos_test, segmentos_train\n",
        "\n",
        "**Output:** Lista de tuplas (segmento_test, segmento_estimado)"
      ],
      "metadata": {
        "id": "XzjkdH_Lk0Ls"
      }
    },
    {
      "cell_type": "code",
      "source": [
        "#vinos = A_test.\n",
        "#cant_comp = componentes principales que se quieren usar.\n",
        "#k = cantidad de elementos más cercanos que se desea utilizar.\n",
        "\n",
        "def segmentar_varios(vinos,cant_comp, k, A_train, segmentos_test, segmentos_train):\n",
        "  resultado = []\n",
        "  cantidad_test = len(vinos) #cantidad de vinos a segmentar\n",
        "  for i in range(cantidad_test):\n",
        "    segmento_estimado = segmentar(vinos[i], A_train, cant_comp, k, segmentos_train)[1] #nos da el segmento que se le asigna al vino\n",
        "    segmento_test = segmentos_test[i]\n",
        "    resultado.append((segmento_test, segmento_estimado))\n",
        "  return resultado\n"
      ],
      "metadata": {
        "id": "G_auPWuSlqNq"
      },
      "execution_count": 19,
      "outputs": []
    },
    {
      "cell_type": "markdown",
      "source": [
        "- Usamos la función anterior para realizar la estimación de todos los vinos de A_test con 1,2,3 y 4 componentes principales, siempre mirando los k=3 elementos más cercanos"
      ],
      "metadata": {
        "id": "KN_jE6uKDlRS"
      }
    },
    {
      "cell_type": "code",
      "source": [
        "estimado_1comp = segmentar_varios(A_test, 1, 3, A_train, segmentos_test, segmentos_train)\n",
        "estimado_2comp = segmentar_varios(A_test, 2, 3, A_train, segmentos_test, segmentos_train)\n",
        "estimado_3comp = segmentar_varios(A_test, 3, 3, A_train, segmentos_test, segmentos_train)\n",
        "estimado_4comp = segmentar_varios(A_test, 4, 3, A_train, segmentos_test, segmentos_train)\n",
        "\n",
        "print(\"Estimados con 1 comp. (Ytest,Yestimado) \\n\",estimado_1comp, \"\\n\")\n",
        "print(\"Estimados con 2 comp. (Ytest,Yestimado) \\n\",estimado_2comp,\"\\n\")\n",
        "print(\"Estimados con 3 comp. (Ytest,Yestimado) \\n\",estimado_3comp,\"\\n\")\n",
        "print(\"Estimados con 4 comp. (Ytest,Yestimado) \\n\",estimado_4comp,\"\\n\")"
      ],
      "metadata": {
        "id": "0WsUAeBkDRI-",
        "colab": {
          "base_uri": "https://localhost:8080/"
        },
        "outputId": "b289f4c2-d742-483d-ab5b-38f490b15fef"
      },
      "execution_count": 20,
      "outputs": [
        {
          "output_type": "stream",
          "name": "stdout",
          "text": [
            "Estimados con 1 comp. (Ytest,Yestimado) \n",
            " [(1.0, 1.0), (1.0, 1.0), (1.0, 2.0), (1.0, 1.0), (1.0, 1.0), (1.0, 2.0), (1.0, 1.0), (1.0, 1.0), (1.0, 1.0), (1.0, 1.0), (1.0, 2.0), (1.0, 1.0), (2.0, 2.0), (2.0, 2.0), (2.0, 1.0), (2.0, 2.0), (2.0, 2.0), (2.0, 2.0), (2.0, 1.0), (2.0, 2.0), (2.0, 3.0), (2.0, 2.0), (2.0, 3.0), (2.0, 2.0), (2.0, 2.0), (2.0, 2.0), (3.0, 3.0), (3.0, 3.0), (3.0, 3.0), (3.0, 3.0), (3.0, 3.0), (3.0, 3.0), (3.0, 3.0), (3.0, 3.0), (3.0, 3.0), (3.0, 3.0)] \n",
            "\n",
            "Estimados con 2 comp. (Ytest,Yestimado) \n",
            " [(1.0, 1.0), (1.0, 1.0), (1.0, 1.0), (1.0, 1.0), (1.0, 1.0), (1.0, 1.0), (1.0, 1.0), (1.0, 2.0), (1.0, 1.0), (1.0, 1.0), (1.0, 1.0), (1.0, 1.0), (2.0, 2.0), (2.0, 2.0), (2.0, 2.0), (2.0, 2.0), (2.0, 2.0), (2.0, 2.0), (2.0, 2.0), (2.0, 2.0), (2.0, 2.0), (2.0, 2.0), (2.0, 2.0), (2.0, 2.0), (2.0, 2.0), (2.0, 2.0), (3.0, 3.0), (3.0, 3.0), (3.0, 3.0), (3.0, 3.0), (3.0, 3.0), (3.0, 3.0), (3.0, 3.0), (3.0, 3.0), (3.0, 3.0), (3.0, 3.0)] \n",
            "\n",
            "Estimados con 3 comp. (Ytest,Yestimado) \n",
            " [(1.0, 1.0), (1.0, 1.0), (1.0, 1.0), (1.0, 1.0), (1.0, 1.0), (1.0, 2.0), (1.0, 1.0), (1.0, 1.0), (1.0, 1.0), (1.0, 1.0), (1.0, 1.0), (1.0, 1.0), (2.0, 2.0), (2.0, 2.0), (2.0, 2.0), (2.0, 2.0), (2.0, 2.0), (2.0, 2.0), (2.0, 2.0), (2.0, 2.0), (2.0, 2.0), (2.0, 2.0), (2.0, 2.0), (2.0, 2.0), (2.0, 2.0), (2.0, 2.0), (3.0, 3.0), (3.0, 3.0), (3.0, 3.0), (3.0, 3.0), (3.0, 3.0), (3.0, 3.0), (3.0, 3.0), (3.0, 3.0), (3.0, 3.0), (3.0, 3.0)] \n",
            "\n",
            "Estimados con 4 comp. (Ytest,Yestimado) \n",
            " [(1.0, 1.0), (1.0, 1.0), (1.0, 1.0), (1.0, 1.0), (1.0, 1.0), (1.0, 2.0), (1.0, 1.0), (1.0, 1.0), (1.0, 1.0), (1.0, 1.0), (1.0, 1.0), (1.0, 1.0), (2.0, 2.0), (2.0, 2.0), (2.0, 2.0), (2.0, 2.0), (2.0, 2.0), (2.0, 2.0), (2.0, 2.0), (2.0, 2.0), (2.0, 2.0), (2.0, 2.0), (2.0, 3.0), (2.0, 2.0), (2.0, 2.0), (2.0, 2.0), (3.0, 3.0), (3.0, 3.0), (3.0, 3.0), (3.0, 3.0), (3.0, 3.0), (3.0, 3.0), (3.0, 3.0), (3.0, 3.0), (3.0, 3.0), (3.0, 3.0)] \n",
            "\n"
          ]
        }
      ]
    },
    {
      "cell_type": "markdown",
      "source": [
        "#### Tabla Modelo PCA"
      ],
      "metadata": {
        "id": "vkzAnZxyDLYI"
      }
    },
    {
      "cell_type": "markdown",
      "source": [
        "- Definimos una función para calcular la varianza explicada\n",
        "\n",
        "----\n",
        "\n",
        "- **Input:** Cantidad de autovalores a los que se les desea calcular la varianza explicada y Matriz de covarianza\n",
        "\n",
        "- **Output:** Lista con varianzas explicadas de la cantidad de autovalores solicitados"
      ],
      "metadata": {
        "id": "1u0b4R5-CLeH"
      }
    },
    {
      "cell_type": "code",
      "source": [
        "def varianza_explicada(cantidad, Acov):\n",
        "  explicadas = []\n",
        "  autovecs_totales = Acov.shape[1]\n",
        "  autovals = ExtPotencia(Acov, autovecs_totales)[0]\n",
        "  suma_autovals = np.sum(autovals)\n",
        "  for i in range(cantidad):\n",
        "    explicadas.append(autovals[i]/ suma_autovals)\n",
        "  return explicadas"
      ],
      "metadata": {
        "id": "LjmK8scV8yhG"
      },
      "execution_count": 21,
      "outputs": []
    },
    {
      "cell_type": "markdown",
      "source": [
        "Calculamos las varianzas explicadas con la función precedente, y armamos la tabla con los datos requeridos"
      ],
      "metadata": {
        "id": "1zff4xGJ7Ob2"
      }
    },
    {
      "cell_type": "code",
      "source": [
        "#Calculamos la varianza explicada de los 4 1ros autovalores.\n",
        "Lista_varianzas =varianza_explicada(4, cov(normalizar(A_train)))\n",
        "\n",
        "#Redondeo la variable explicada del autovalor 1 y luego lo paso a porcentaje.\n",
        "var_exp_autov1 = np.round(Lista_varianzas[0],4)\n",
        "porcentaje_1 = np.round(var_exp_autov1*100, 2)\n",
        "\n",
        "#Lo mismo con las otras.\n",
        "var_exp_autov2 = np.round(Lista_varianzas[1],4)\n",
        "porcentaje_2 = np.round(var_exp_autov2*100, 2)\n",
        "\n",
        "var_exp_autov3 = np.round(Lista_varianzas[2],4)\n",
        "porcentaje_3 = np.round(var_exp_autov3*100, 2)\n",
        "\n",
        "var_exp_autov4 = np.round(Lista_varianzas[3],4)\n",
        "porcentaje_4 = np.round(var_exp_autov4*100, 2)\n",
        "\n",
        "#Sumo los porcentajes para agregar a la suma acumulada.\n",
        "suma_acum2= np.round(porcentaje_1 + porcentaje_2,4)\n",
        "suma_acum3 = np.round(suma_acum2 + porcentaje_3,4)\n",
        "suma_acum4 = np.round(suma_acum3 + porcentaje_4,4)"
      ],
      "metadata": {
        "id": "quQ0slB37ueP"
      },
      "execution_count": 22,
      "outputs": []
    },
    {
      "cell_type": "code",
      "source": [
        "ListaVarianzas = [['1 Comp. Ppal.', '1', var_exp_autov1,porcentaje_1, porcentaje_1], ['2 Comp. Ppal.', '1',var_exp_autov1,porcentaje_1, \"-\"],\n",
        " ['2 Comp. Ppal.', '2', var_exp_autov2,porcentaje_2, suma_acum2], ['3 Comp. Ppal',  '1',var_exp_autov1,porcentaje_1, \"-\"],\n",
        "  ['3 Comp. Ppal',  '2',var_exp_autov2,porcentaje_2, \"-\" ],  ['3 Comp. Ppal',  '3',var_exp_autov3,porcentaje_3, suma_acum3],['4 Comp. Ppal',  '1',var_exp_autov1,porcentaje_1, \"-\"],\n",
        "  ['4 Comp. Ppal',  '2',var_exp_autov2,porcentaje_2, \"-\"],  ['4 Comp. Ppal',  '3',var_exp_autov3,porcentaje_3, \"-\"], ['4 Comp. Ppal',  '4',var_exp_autov4,porcentaje_4, suma_acum4]]\n",
        "Tabla = \"\"\"\\\n",
        "+-------------------------------------------------------------------------+\n",
        "| Modelo PCA      Componente  Varianza explicada   Porcentaje   Acumulado |\n",
        "|-------------------------------------------------------------------------|\n",
        "{}\n",
        "+-------------------------------------------------------------------------+\\\n",
        "\"\"\"\n",
        "Tabla = (Tabla.format('\\n'.join(\"| {:<18} {:<10} {:>12} {:>12} {:>15} |\".format(*fila)\n",
        " for fila in ListaVarianzas)))\n",
        "print (Tabla)"
      ],
      "metadata": {
        "colab": {
          "base_uri": "https://localhost:8080/"
        },
        "id": "oGQuBlkE2PJB",
        "outputId": "cbab8d1d-92da-47bb-d2c2-d682b0f19174"
      },
      "execution_count": 23,
      "outputs": [
        {
          "output_type": "stream",
          "name": "stdout",
          "text": [
            "+-------------------------------------------------------------------------+\n",
            "| Modelo PCA      Componente  Varianza explicada   Porcentaje   Acumulado |\n",
            "|-------------------------------------------------------------------------|\n",
            "| 1 Comp. Ppal.      1                  0.36         36.0            36.0 |\n",
            "| 2 Comp. Ppal.      1                  0.36         36.0               - |\n",
            "| 2 Comp. Ppal.      2                 0.191         19.1            55.1 |\n",
            "| 3 Comp. Ppal       1                  0.36         36.0               - |\n",
            "| 3 Comp. Ppal       2                 0.191         19.1               - |\n",
            "| 3 Comp. Ppal       3                0.1059        10.59           65.69 |\n",
            "| 4 Comp. Ppal       1                  0.36         36.0               - |\n",
            "| 4 Comp. Ppal       2                 0.191         19.1               - |\n",
            "| 4 Comp. Ppal       3                0.1059        10.59               - |\n",
            "| 4 Comp. Ppal       4                0.0777         7.77           73.46 |\n",
            "+-------------------------------------------------------------------------+\n"
          ]
        }
      ]
    },
    {
      "cell_type": "markdown",
      "source": [
        "### B) Gráficos"
      ],
      "metadata": {
        "id": "Q2Y0LyenelmX"
      }
    },
    {
      "cell_type": "markdown",
      "source": [
        "Definimos una función para escribir a la matriz train en base de los autovectores (componentes principales) requeridos\n",
        "\n",
        "---\n",
        "\n",
        "- **Input:** Matriz A_train, cantidad de comp pples (autovectores)\n",
        "\n",
        "- **Output:** Matriz en base a los autovectores"
      ],
      "metadata": {
        "id": "V_zFyoFAzLgr"
      }
    },
    {
      "cell_type": "code",
      "source": [
        "def matriz_base_avec(A_train, n): #n cantidad de componentes principales con las que se quiere trabajar\n",
        "  X = normalizar(A_train)\n",
        "  C = cov(X)\n",
        "  V = np.transpose(ExtPotencia(C, n)[1]) #Armamos la matriz con los n primeros autovectores como columnas\n",
        "  T = X @ V # escribimos la matriz normalizada en base de los n autovectores\n",
        "  return T"
      ],
      "metadata": {
        "id": "1_EBhlAJfmXQ"
      },
      "execution_count": 24,
      "outputs": []
    },
    {
      "cell_type": "markdown",
      "source": [
        "Definimos una función para escribir a una lista de vinos en base a los n autovectores (comp. pples) requeridos\n",
        "\n",
        "---\n",
        "\n",
        "- **Input:** Matriz test, matriz train, cant comp pples\n",
        "\n",
        "- **Output:** Matriz test en base a los autovectores"
      ],
      "metadata": {
        "id": "XRP10JnBziFM"
      }
    },
    {
      "cell_type": "code",
      "source": [
        "def vinos_base_avec(vinos,A, n):            #Pasaremos A_test y A_train\n",
        "  X = normalizar(A)\n",
        "  C = cov(X)\n",
        "  V = np.transpose(ExtPotencia(C, n)[1])\n",
        "  resultado = []\n",
        "  for i in range(vinos.shape[0]):\n",
        "    vino_norm = normalizarVec(vinos[i], A)  #normalizamos el vino nuevo\n",
        "    vino = vino_norm @ V                    #lo escribimos en base de los n autovectores\n",
        "    resultado.append(vino)\n",
        "  return resultado"
      ],
      "metadata": {
        "id": "goqEL5JRkaDK"
      },
      "execution_count": 25,
      "outputs": []
    },
    {
      "cell_type": "markdown",
      "source": [
        "Definimos una función para separar en los distintos segmentos los datos de una matriz escrita en base a cierta cantidad de autovectores\n",
        "\n",
        "- **Input:** Matriz Avec, segmentos_train\n",
        "\n",
        "- **Output:** Array de segmentos 1. array de segmentos 2, array de segmentos 3"
      ],
      "metadata": {
        "id": "YIC4Pv8cA7Hh"
      }
    },
    {
      "cell_type": "code",
      "source": [
        "def separar_en_segmentos(Matriz_avec, segmentos_train):\n",
        "  s1 = []\n",
        "  s2 = []\n",
        "  s3 = []\n",
        "  for i in range (len(Matriz_avec)):\n",
        "    segmento = segmentos_train[i]\n",
        "    if segmento == 1:\n",
        "      s1.append(Matriz_avec[i])\n",
        "    elif segmento ==2:\n",
        "      s2.append(Matriz_avec[i])\n",
        "    else:\n",
        "      s3.append(Matriz_avec[i])\n",
        "  return np.array(s1),np.array(s2),np.array(s3)"
      ],
      "metadata": {
        "id": "_6iw7lVnlf3N"
      },
      "execution_count": 26,
      "outputs": []
    },
    {
      "cell_type": "markdown",
      "source": [
        "- CASO CON UNA COMPONENTE PRINCIPAL"
      ],
      "metadata": {
        "id": "WLgLl4SYyyro"
      }
    },
    {
      "cell_type": "code",
      "source": [
        "def graficar_1comp(A_train, segmentos_train, A_test, segmentos_test):\n",
        "\n",
        "  #Escribimos la Matriz train en base al primer autovector\n",
        "  Matriz_avec = matriz_base_avec(A_train, 1)\n",
        "\n",
        "  #Separamos por segmentos\n",
        "  s1, s2, s3= separar_en_segmentos(Matriz_avec, segmentos_train)\n",
        "\n",
        "\n",
        "  #Graficamos los casos Train\n",
        "  plt.plot(s1[:,0],[0]*len(s1),'o',linewidth=3,color= 'limegreen',label='Segmento 1')\n",
        "  plt.plot(s2[:,0],[0]*len(s2),'o',linewidth=3,color= 'y',label='Segmento 2')\n",
        "  plt.plot(s3[:,0],[0]*len(s3),'o',linewidth=3,color= 'r',label='Segmento 3')\n",
        "\n",
        "  #Escribimos la Matriz test en base a los dos primeros autovectores\n",
        "  Vinos_avec= vinos_base_avec(A_test, A_train,1)\n",
        "\n",
        "  #Graficamos los casos Test\n",
        "  estimado_1comp = segmentar_varios(A_test, 1, 3, A_train, segmentos_test, segmentos_train)\n",
        "\n",
        "  #Elevamos un poco los puntos para poder corroborar dónde se ubican según nuestra estimación.\n",
        "  #También utilizamos un color un poco más oscuro que el de los casos train.\n",
        "\n",
        "  for i in range (len(Vinos_avec)):\n",
        "    estimacion= estimado_1comp[i][1]\n",
        "    if estimacion == 1:\n",
        "      plt.plot(Vinos_avec[i][0],0.2,'*',linewidth=3,color= 'darkgreen')\n",
        "    elif estimacion == 2:\n",
        "      plt.plot(Vinos_avec[i][0],0.2,'*',linewidth=3,color= 'darkgoldenrod')\n",
        "    else:\n",
        "      plt.plot(Vinos_avec[i][0],0.2,'*',linewidth=3,color= 'maroon')\n",
        "\n",
        "  ax = plt.subplot(111)\n",
        "  ax.spines['right'].set_visible(False)\n",
        "  ax.spines['left'].set_visible(False)\n",
        "  ax.spines['top'].set_visible(False)\n",
        "\n",
        "\n",
        "  plt.ylim(0,1)\n",
        "  plt.gca().axes.get_yaxis().set_visible(False)\n",
        "  plt.xlabel('X label')\n",
        "  plt.title('Una componente principal')\n",
        "  plt.legend( )\n",
        "  plt.show( )\n",
        "\n",
        "graficar_1comp(A_train, segmentos_train, A_test, segmentos_test)"
      ],
      "metadata": {
        "colab": {
          "base_uri": "https://localhost:8080/",
          "height": 472
        },
        "id": "_fyxY369rDbA",
        "outputId": "8b40d0d9-2912-4664-ed53-8c6dc3d7cacc"
      },
      "execution_count": 27,
      "outputs": [
        {
          "output_type": "display_data",
          "data": {
            "text/plain": [
              "<Figure size 640x480 with 1 Axes>"
            ],
            "image/png": "[encoded data removed]"
          },
          "metadata": {}
        }
      ]
    },
    {
      "cell_type": "code",
      "source": [
        "# (Ytest, Yestimado)\n",
        "estimacion_1comp= segmentar_varios(A_test, 1, 3, A_train, segmentos_test, segmentos_train)\n",
        "print(estimacion_1comp)"
      ],
      "metadata": {
        "colab": {
          "base_uri": "https://localhost:8080/"
        },
        "id": "AooCRkSUt1wb",
        "outputId": "72111c67-9ebf-4ec6-f2a5-354f37362157"
      },
      "execution_count": 28,
      "outputs": [
        {
          "output_type": "stream",
          "name": "stdout",
          "text": [
            "[(1.0, 1.0), (1.0, 1.0), (1.0, 2.0), (1.0, 1.0), (1.0, 1.0), (1.0, 2.0), (1.0, 1.0), (1.0, 1.0), (1.0, 1.0), (1.0, 1.0), (1.0, 2.0), (1.0, 1.0), (2.0, 2.0), (2.0, 2.0), (2.0, 1.0), (2.0, 2.0), (2.0, 2.0), (2.0, 2.0), (2.0, 1.0), (2.0, 2.0), (2.0, 3.0), (2.0, 2.0), (2.0, 3.0), (2.0, 2.0), (2.0, 2.0), (2.0, 2.0), (3.0, 3.0), (3.0, 3.0), (3.0, 3.0), (3.0, 3.0), (3.0, 3.0), (3.0, 3.0), (3.0, 3.0), (3.0, 3.0), (3.0, 3.0), (3.0, 3.0)]\n"
          ]
        }
      ]
    },
    {
      "cell_type": "markdown",
      "source": [
        "- CASO CON DOS COMPONENTES PRINCIPALES"
      ],
      "metadata": {
        "id": "qjolC-y_q9NK"
      }
    },
    {
      "cell_type": "code",
      "source": [
        "def graficar_2comp(A_train, segmentos_train, A_test, segmentos_test):\n",
        "  #Escribimos la Matriz train en base a los dos primeros autovectores\n",
        "  Matriz_avec = matriz_base_avec(A_train, 2)\n",
        "\n",
        "  #Separamos por segmentos\n",
        "  s1, s2, s3= separar_en_segmentos(Matriz_avec, segmentos_train)\n",
        "\n",
        "  #Graficamos los casos Train\n",
        "  plt.plot(s1[:,0], s1[:,1],'o',linewidth=3,color= 'limegreen',label='Segmento 1')\n",
        "  plt.plot(s2[:,0], s2[:,1],'o',linewidth=3,color= 'y',label='Segmento 2')\n",
        "  plt.plot(s3[:,0], s3[:,1],'o',linewidth=3,color= 'r',label='Segmento 3')\n",
        "\n",
        "  #Escribimos la Matriz test en base a los dos primeros autovectores\n",
        "  Vinos_avec= vinos_base_avec(A_test, A_train,2)\n",
        "\n",
        "  #Graficamos los casos Test. Utilizamos un color un poco más oscuro que el de los casos train para que se noten\n",
        "  estimado_2comp = segmentar_varios(A_test, 2, 3, A_train, segmentos_test, segmentos_train)\n",
        "\n",
        "  for i in range (len(Vinos_avec)):\n",
        "    estimacion= estimado_2comp[i][1]\n",
        "    if estimacion == 1:\n",
        "      plt.plot(Vinos_avec[i][0], Vinos_avec[i][1],'*',linewidth=3,color= 'darkgreen')\n",
        "    elif estimacion == 2:\n",
        "      plt.plot(Vinos_avec[i][0], Vinos_avec[i][1],'*',linewidth=3,color= 'darkgoldenrod')\n",
        "    else:\n",
        "      plt.plot(Vinos_avec[i][0], Vinos_avec[i][1],'*',linewidth=3,color= 'maroon')\n",
        "\n",
        "  plt.xlabel('X label')\n",
        "  plt.ylabel('Y label')\n",
        "  plt.title('Dos componentes principales')\n",
        "  plt.legend( )\n",
        "  plt.show( )\n",
        "\n",
        "graficar_2comp(A_train, segmentos_train, A_test, segmentos_test)"
      ],
      "metadata": {
        "colab": {
          "base_uri": "https://localhost:8080/",
          "height": 472
        },
        "id": "Vbbywm3Keoev",
        "outputId": "a200a5e8-19b8-41db-9605-1ce7a676cb46"
      },
      "execution_count": 29,
      "outputs": [
        {
          "output_type": "display_data",
          "data": {
            "text/plain": [
              "<Figure size 640x480 with 1 Axes>"
            ],
            "image/png": "[encoded data removed]"
          },
          "metadata": {}
        }
      ]
    },
    {
      "cell_type": "code",
      "source": [
        "# (Y_test, Y_estimado)\n",
        "estimacion_2comp= segmentar_varios(A_test, 2, 3, A_train, segmentos_test, segmentos_train)\n",
        "print(estimacion_2comp)\n"
      ],
      "metadata": {
        "colab": {
          "base_uri": "https://localhost:8080/"
        },
        "id": "OBtEgkoYt7JS",
        "outputId": "9a02124b-4939-4f66-c897-00d5349fdd44"
      },
      "execution_count": 30,
      "outputs": [
        {
          "output_type": "stream",
          "name": "stdout",
          "text": [
            "[(1.0, 1.0), (1.0, 1.0), (1.0, 1.0), (1.0, 1.0), (1.0, 1.0), (1.0, 1.0), (1.0, 1.0), (1.0, 2.0), (1.0, 1.0), (1.0, 1.0), (1.0, 1.0), (1.0, 1.0), (2.0, 2.0), (2.0, 2.0), (2.0, 2.0), (2.0, 2.0), (2.0, 2.0), (2.0, 2.0), (2.0, 2.0), (2.0, 2.0), (2.0, 2.0), (2.0, 2.0), (2.0, 2.0), (2.0, 2.0), (2.0, 2.0), (2.0, 2.0), (3.0, 3.0), (3.0, 3.0), (3.0, 3.0), (3.0, 3.0), (3.0, 3.0), (3.0, 3.0), (3.0, 3.0), (3.0, 3.0), (3.0, 3.0), (3.0, 3.0)]\n"
          ]
        }
      ]
    },
    {
      "cell_type": "markdown",
      "source": [
        "- CASO CON TRES COMPONENTES PRINCIPALES"
      ],
      "metadata": {
        "id": "Bl2etiOOhsh_"
      }
    },
    {
      "cell_type": "code",
      "source": [
        "def graficar_3comp(A_train, segmentos_train, A_test, segmentos_test):\n",
        "  #Escribimos la Matriz train en base a los tres primeros autovectores\n",
        "  Matriz_avec = matriz_base_avec(A_train, 3)\n",
        "\n",
        "  #Separamos por segmentos\n",
        "  s1, s2, s3= separar_en_segmentos(Matriz_avec, segmentos_train)\n",
        "\n",
        "  #Graficamos los casos Train\n",
        "  fig = plt.figure()\n",
        "  ax = fig.add_subplot(projection='3d')\n",
        "  ax.scatter(s1[:,0], s1[:,1], s1[:,2], marker='o',linewidth=3,color= 'limegreen',label='Segmento 1')\n",
        "  ax.scatter(s2[:,0], s2[:,1], s2[:,2], marker='o',linewidth=3,color= 'y',label='Segmento 2')\n",
        "  ax.scatter(s3[:,0], s3[:,1], s3[:,2], marker='o',linewidth=3,color= 'r',label='Segmento 3')\n",
        "\n",
        "  #Escribimos la Matriz test en base a los tres primeros autovectores\n",
        "  Vinos_avec= vinos_base_avec(A_test, A_train,3)\n",
        "\n",
        "  #Graficamos los casos Test. Utilizamos un color un poco más oscuro que el de los casos train para que se noten\n",
        "  estimado_3comp = segmentar_varios(A_test, 3, 3, A_train, segmentos_test, segmentos_train)\n",
        "\n",
        "  for i in range (len(Vinos_avec)):\n",
        "    estimacion= estimado_3comp[i][1]\n",
        "    if estimacion == 1:\n",
        "      ax.scatter(Vinos_avec[i][0], Vinos_avec[i][1], Vinos_avec[i][2], marker='*',linewidth=3,color= 'darkgreen')\n",
        "    elif estimacion == 2:\n",
        "      ax.scatter(Vinos_avec[i][0], Vinos_avec[i][1], Vinos_avec[i][2], marker='*',linewidth=3,color= 'darkgoldenrod')\n",
        "    else:\n",
        "      ax.scatter(Vinos_avec[i][0], Vinos_avec[i][1], Vinos_avec[i][2], marker='*',linewidth=3,color= 'maroon')\n",
        "\n",
        "\n",
        "\n",
        "  ax.set_xlabel('X Label')\n",
        "  ax.set_ylabel('Y Label')\n",
        "  ax.set_zlabel('Z Label')\n",
        "  plt.title('Tres componentes principales')\n",
        "  plt.legend( )\n",
        "  plt.show( )\n",
        "\n",
        "graficar_3comp(A_train, segmentos_train, A_test, segmentos_test)"
      ],
      "metadata": {
        "colab": {
          "base_uri": "https://localhost:8080/",
          "height": 437
        },
        "id": "DDXZgUclnKRr",
        "outputId": "e2e58d24-2a3b-4921-ab9e-d18c746e0fac"
      },
      "execution_count": 31,
      "outputs": [
        {
          "output_type": "display_data",
          "data": {
            "text/plain": [
              "<Figure size 640x480 with 1 Axes>"
            ],
            "image/png": "[encoded data removed]"
          },
          "metadata": {}
        }
      ]
    },
    {
      "cell_type": "code",
      "source": [
        "# (Y_test, Y_estimado)\n",
        "estimacion_3comp=segmentar_varios(A_test, 3, 3, A_train, segmentos_test, segmentos_train)\n",
        "print(estimacion_3comp)"
      ],
      "metadata": {
        "colab": {
          "base_uri": "https://localhost:8080/"
        },
        "id": "nRbmlXV1t95d",
        "outputId": "a01ec804-3eac-45dc-87b1-86ce5f77c985"
      },
      "execution_count": 32,
      "outputs": [
        {
          "output_type": "stream",
          "name": "stdout",
          "text": [
            "[(1.0, 1.0), (1.0, 1.0), (1.0, 1.0), (1.0, 1.0), (1.0, 1.0), (1.0, 2.0), (1.0, 1.0), (1.0, 1.0), (1.0, 1.0), (1.0, 1.0), (1.0, 1.0), (1.0, 1.0), (2.0, 2.0), (2.0, 2.0), (2.0, 2.0), (2.0, 2.0), (2.0, 2.0), (2.0, 2.0), (2.0, 2.0), (2.0, 2.0), (2.0, 2.0), (2.0, 2.0), (2.0, 2.0), (2.0, 2.0), (2.0, 2.0), (2.0, 2.0), (3.0, 3.0), (3.0, 3.0), (3.0, 3.0), (3.0, 3.0), (3.0, 3.0), (3.0, 3.0), (3.0, 3.0), (3.0, 3.0), (3.0, 3.0), (3.0, 3.0)]\n"
          ]
        }
      ]
    },
    {
      "cell_type": "markdown",
      "source": [
        "#### Conclusión\n",
        "\n",
        "- En base a la Tabla Modelo PCA, estimamos que lo más óptimo es utilizar 2 componentes principales para las estimaciones.\n",
        "\n",
        "- Ésto se debe a que el 3er componente aporta muy poco (11% aprox).\n",
        "\n"
      ],
      "metadata": {
        "id": "EeXKBYS2uuzD"
      }
    },
    {
      "cell_type": "markdown",
      "source": [
        "### C) Matriz de Confusión\n",
        "\n",
        "--------------\n",
        "\n",
        "- **INPUT**: Matriz A (sacada de función segmentar_varios)\n",
        "- **OUTPUT**: Matriz de Confusión $C \\in R^{3 x 3}$"
      ],
      "metadata": {
        "id": "lzUoO1LGz7cs"
      }
    },
    {
      "cell_type": "code",
      "source": [
        "def confusion(A):\n",
        "  C = np.zeros((3, 3))\n",
        "  #Creamos 3 listas para guardar las estimaciones obtenidas de 1, 2 y 3.\n",
        "  lunos = []\n",
        "  ldos = []\n",
        "  ltres = []\n",
        "\n",
        "  # Guardamos los valores en las listas.\n",
        "  for i in range(len(A)):\n",
        "    if (A[i][0] == 1):\n",
        "      lunos.append(A[i][1])\n",
        "    elif (A[i][0] == 2):\n",
        "      ldos.append(A[i][1])\n",
        "    else:\n",
        "      ltres.append(A[i][1])\n",
        "\n",
        "  # Armamos la matriz de confusión a partir de las filas\n",
        "  # Por ej: en Fila 1 agregamos:\n",
        "        #   -> Col 1: los segmento 1 estimados como segmento 1\n",
        "        #   -> Col 2: los segmento 1 estimados como segmento 2\n",
        "        #   -> Col 3: los segmento 1 estimados como segmento 3\n",
        "  for i in lunos:\n",
        "    if (i == 1):\n",
        "      C[0, 0] += 1\n",
        "    elif (i == 2):\n",
        "      C[0, 1] += 1\n",
        "    else:\n",
        "      C[0, 2] += 1\n",
        "\n",
        "  # Repetimos los mismos pasos para las otras filas (de segmento real 2 y segmento real 3)\n",
        "  for i in ldos:\n",
        "    if (i == 1):\n",
        "      C[1, 0] += 1\n",
        "    elif (i == 2):\n",
        "      C[1, 1] += 1\n",
        "    else:\n",
        "      C[1, 2] += 1\n",
        "\n",
        "  for r in ltres:\n",
        "    if (r == 1):\n",
        "      C[2, 0] += 1\n",
        "    elif (r == 2):\n",
        "      C[2, 1] += 1\n",
        "    else:\n",
        "      C[2, 2] += 1\n",
        "\n",
        "  return C"
      ],
      "metadata": {
        "id": "p963eqsd0xOc"
      },
      "execution_count": 33,
      "outputs": []
    },
    {
      "cell_type": "code",
      "source": [
        "print(\"1 Componente Principal \\n\",confusion(segmentar_varios(A_test, 1, 3, A_train, segmentos_test, segmentos_train)), \"\\n\")\n",
        "print(\"2 Componentes Principales \\n\",confusion(segmentar_varios(A_test, 2, 3, A_train, segmentos_test, segmentos_train)),\"\\n\")\n",
        "print(\"3 Componentes Principales \\n\",confusion(segmentar_varios(A_test, 3, 3, A_train, segmentos_test, segmentos_train)),\"\\n\")\n",
        "print(\"4 Componentes Principales \\n\",confusion(segmentar_varios(A_test, 4, 3, A_train, segmentos_test, segmentos_train)),\"\\n\")"
      ],
      "metadata": {
        "colab": {
          "base_uri": "https://localhost:8080/"
        },
        "id": "Ma5Iu0z84r7g",
        "outputId": "88afda08-d28a-4752-e6b7-ad954700d5f2"
      },
      "execution_count": 34,
      "outputs": [
        {
          "output_type": "stream",
          "name": "stdout",
          "text": [
            "1 Componente Principal \n",
            " [[ 9.  3.  0.]\n",
            " [ 2. 10.  2.]\n",
            " [ 0.  0. 10.]] \n",
            "\n",
            "2 Componentes Principales \n",
            " [[11.  1.  0.]\n",
            " [ 0. 14.  0.]\n",
            " [ 0.  0. 10.]] \n",
            "\n",
            "3 Componentes Principales \n",
            " [[11.  1.  0.]\n",
            " [ 0. 14.  0.]\n",
            " [ 0.  0. 10.]] \n",
            "\n",
            "4 Componentes Principales \n",
            " [[11.  1.  0.]\n",
            " [ 0. 13.  1.]\n",
            " [ 0.  0. 10.]] \n",
            "\n"
          ]
        }
      ]
    },
    {
      "cell_type": "markdown",
      "source": [
        "#### Conclusión\n",
        "\n",
        "- La matriz de Confusión nos muestra, fuera de la diagonal, todos los errores que obtuvimos en la estimación.\n",
        "\n",
        "- Éstos errores deberían ir disminuyendo cada vez que utilizamos más componentes principales (n) para la estimación. Sin embargo, vemos que esta performance se reduce a partir de los 3 comp principales. Como vemos, utilizando 4 componentes empeora.\n",
        "\n",
        "- En nuestro caso, vemos que lo ideal es utilizar 2 componentes principales.\n",
        "\n",
        "\n"
      ],
      "metadata": {
        "id": "s3JvoTxA9TTd"
      }
    },
    {
      "cell_type": "markdown",
      "source": [
        "### D) Prueba Adicional"
      ],
      "metadata": {
        "id": "Co6ojAJpCbpT"
      }
    },
    {
      "cell_type": "markdown",
      "source": [
        "- **Input:** lista de tuplas con estimación (SegmentoTest, SegmentoEstimado)\n",
        "- **Output:** Porcentaje de Aciertos expresado en decimal"
      ],
      "metadata": {
        "id": "jWvqrYByO4K-"
      }
    },
    {
      "cell_type": "code",
      "source": [
        "def accuracy (estimacion):\n",
        "  positivo= 0\n",
        "  negativo= 0\n",
        "  total = len(estimacion)\n",
        "  for i in range (total):\n",
        "    if estimacion[i][0] == estimacion[i][1]:\n",
        "      positivo += 1\n",
        "    else:\n",
        "      negativo += 1\n",
        "  res = positivo / total\n",
        "  return res"
      ],
      "metadata": {
        "id": "9cfkS6djCYky"
      },
      "execution_count": 43,
      "outputs": []
    },
    {
      "cell_type": "markdown",
      "source": [
        "Realizamos cinco pruebas distintas para calcular el accuracy promedio.Para ello dividimos la base de datos de cinco forma distintas, utilizando la función splitDataset."
      ],
      "metadata": {
        "id": "j6Q-WFesE_--"
      }
    },
    {
      "cell_type": "code",
      "source": [
        "#PRUEBA 1\n",
        "train_data1, train_lab1, test_data1, test_lab1 = splitDataset (np.transpose(A), np.array([segmentos]))\n",
        "A_train1 = np.transpose(train_data1)\n",
        "segmentos_train1 = train_lab1[0]\n",
        "A_test1 = np.transpose(test_data1)\n",
        "segmentos_test1 = test_lab1[0]\n",
        "\n",
        "\n",
        "#PRUEBA 2\n",
        "train_data2, train_lab2, test_data2, test_lab2 = splitDataset (np.transpose(A), np.array([segmentos]))\n",
        "A_train2 = np.transpose(train_data2)\n",
        "segmentos_train2 = train_lab2[0]\n",
        "A_test2 = np.transpose(test_data2)\n",
        "segmentos_test2 = test_lab2[0]\n",
        "\n",
        "#PRUEBA 3\n",
        "train_data3, train_lab3, test_data3, test_lab3 = splitDataset (np.transpose(A), np.array([segmentos]))\n",
        "A_train3 = np.transpose(train_data3)\n",
        "segmentos_train3 = train_lab3[0]\n",
        "A_test3 = np.transpose(test_data3)\n",
        "segmentos_test3 = test_lab3[0]\n",
        "\n",
        "#PRUEBA 4\n",
        "train_data4, train_lab4, test_data4, test_lab4 = splitDataset (np.transpose(A), np.array([segmentos]))\n",
        "A_train4 = np.transpose(train_data4)\n",
        "segmentos_train4 = train_lab4[0]\n",
        "A_test4 = np.transpose(test_data4)\n",
        "segmentos_test4 = test_lab4[0]\n",
        "\n",
        "#PRUEBA 5\n",
        "train_data5, train_lab5, test_data5, test_lab5 = splitDataset (np.transpose(A), np.array([segmentos]))\n",
        "A_train5 = np.transpose(train_data5)\n",
        "segmentos_train5 = train_lab5[0]\n",
        "A_test5 = np.transpose(test_data5)\n",
        "segmentos_test5 = test_lab5[0]\n",
        "\n",
        "\n"
      ],
      "metadata": {
        "id": "g_Wl291uEPLQ"
      },
      "execution_count": 52,
      "outputs": []
    },
    {
      "cell_type": "markdown",
      "source": [
        "Realizamos las estimaciones para cada uno y calculamos cada acuracy"
      ],
      "metadata": {
        "id": "ewc1PgvUGJwl"
      }
    },
    {
      "cell_type": "code",
      "source": [
        "# PRUEBA 1\n",
        "estimado_1comp1 = segmentar_varios(A_test1, 1, 3, A_train1, segmentos_test1, segmentos_train1)\n",
        "accuracy_1comp1 = accuracy(estimado_1comp1)\n",
        "estimado_2comp1 = segmentar_varios(A_test1, 2, 3, A_train1, segmentos_test1, segmentos_train1)\n",
        "accuracy_2comp1 = accuracy(estimado_2comp1)\n",
        "estimado_3comp1 = segmentar_varios(A_test1, 3, 3, A_train1, segmentos_test1, segmentos_train1)\n",
        "accuracy_3comp1 = accuracy(estimado_3comp1)\n",
        "estimado_4comp1 = segmentar_varios(A_test1, 4, 3, A_train1, segmentos_test1, segmentos_train1)\n",
        "accuracy_4comp1 = accuracy(estimado_4comp1)\n",
        "\n",
        "# PRUEBA 2\n",
        "estimado_1comp2 = segmentar_varios(A_test2, 1, 3, A_train2, segmentos_test2, segmentos_train2)\n",
        "accuracy_1comp2 = accuracy(estimado_1comp2)\n",
        "estimado_2comp2 = segmentar_varios(A_test2, 2, 3, A_train2, segmentos_test2, segmentos_train2)\n",
        "accuracy_2comp2 = accuracy(estimado_2comp2)\n",
        "estimado_3comp2 = segmentar_varios(A_test2, 3, 3, A_train2, segmentos_test2, segmentos_train2)\n",
        "accuracy_3comp2 = accuracy(estimado_3comp2)\n",
        "estimado_4comp2 = segmentar_varios(A_test2, 4, 3, A_train2, segmentos_test2, segmentos_train2)\n",
        "accuracy_4comp2 = accuracy(estimado_4comp2)\n",
        "\n",
        "# PRUEBA 3\n",
        "estimado_1comp3 = segmentar_varios(A_test3, 1, 3, A_train3, segmentos_test3, segmentos_train3)\n",
        "accuracy_1comp3 = accuracy(estimado_1comp3)\n",
        "estimado_2comp3 = segmentar_varios(A_test3, 2, 3, A_train3, segmentos_test3, segmentos_train3)\n",
        "accuracy_2comp3 = accuracy(estimado_2comp3)\n",
        "estimado_3comp3 = segmentar_varios(A_test3, 3, 3, A_train3, segmentos_test3, segmentos_train3)\n",
        "accuracy_3comp3 = accuracy(estimado_3comp3)\n",
        "estimado_4comp3 = segmentar_varios(A_test3, 4, 3, A_train3, segmentos_test3, segmentos_train3)\n",
        "accuracy_4comp3 = accuracy(estimado_4comp3)\n",
        "\n",
        "# PRUEBA 4\n",
        "estimado_1comp4 = segmentar_varios(A_test4, 1, 3, A_train4, segmentos_test4, segmentos_train4)\n",
        "accuracy_1comp4 = accuracy(estimado_1comp4)\n",
        "estimado_2comp4 = segmentar_varios(A_test4, 2, 3, A_train4, segmentos_test4, segmentos_train4)\n",
        "accuracy_2comp4 = accuracy(estimado_2comp4)\n",
        "estimado_3comp4 = segmentar_varios(A_test4, 3, 3, A_train4, segmentos_test4, segmentos_train4)\n",
        "accuracy_3comp4 = accuracy(estimado_3comp4)\n",
        "estimado_4comp4 = segmentar_varios(A_test4, 4, 3, A_train4, segmentos_test4, segmentos_train4)\n",
        "accuracy_4comp4 = accuracy(estimado_4comp4)\n",
        "\n",
        "# PRUEBA 5\n",
        "estimado_1comp5 = segmentar_varios(A_test5, 1, 3, A_train5, segmentos_test5, segmentos_train5)\n",
        "accuracy_1comp5 = accuracy(estimado_1comp5)\n",
        "estimado_2comp5 = segmentar_varios(A_test5, 2, 3, A_train5, segmentos_test5, segmentos_train5)\n",
        "accuracy_2comp5 = accuracy(estimado_2comp5)\n",
        "estimado_3comp5 = segmentar_varios(A_test5, 3, 3, A_train5, segmentos_test5, segmentos_train5)\n",
        "accuracy_3comp5 = accuracy(estimado_3comp5)\n",
        "estimado_4comp5 = segmentar_varios(A_test5, 4, 3, A_train5, segmentos_test5, segmentos_train5)\n",
        "accuracy_4comp5 = accuracy(estimado_4comp5)\n"
      ],
      "metadata": {
        "id": "OMpCtl5nF7Wg"
      },
      "execution_count": 53,
      "outputs": []
    },
    {
      "cell_type": "markdown",
      "source": [
        "Armamos listas con los acurracy de cada una de las pruebas para cada uno de los casos (cantidad de componentes principales)\n"
      ],
      "metadata": {
        "id": "AZ7K7RThKjZO"
      }
    },
    {
      "cell_type": "code",
      "source": [
        "total_accuracy_1comp= [accuracy_1comp1,accuracy_1comp2,accuracy_1comp3,accuracy_1comp4,accuracy_1comp5]\n",
        "total_accuracy_2comp= [accuracy_2comp1,accuracy_2comp2,accuracy_2comp3,accuracy_2comp4,accuracy_2comp5]\n",
        "total_accuracy_3comp= [accuracy_3comp1,accuracy_3comp2,accuracy_3comp3,accuracy_3comp4,accuracy_3comp5]\n",
        "total_accuracy_4comp= [accuracy_4comp1,accuracy_4comp2,accuracy_4comp3,accuracy_4comp4,accuracy_4comp5]\n"
      ],
      "metadata": {
        "id": "wWJ9lkvYKu7n"
      },
      "execution_count": 54,
      "outputs": []
    },
    {
      "cell_type": "markdown",
      "source": [
        "Caclulamos el promedio de los acurracy"
      ],
      "metadata": {
        "id": "SKXY65QbJ31Y"
      }
    },
    {
      "cell_type": "markdown",
      "source": [
        "- **Input:** lista de aciertos calculados\n",
        "- **Output:** Promedio de los elementos de la lista\n",
        "\n"
      ],
      "metadata": {
        "id": "qgAu5rNAOYkX"
      }
    },
    {
      "cell_type": "code",
      "source": [
        "def promedio_acurracy(lista):\n",
        "  n = len(lista)\n",
        "  suma = 0\n",
        "  for i in range (n):\n",
        "    suma += lista[i]\n",
        "  return suma/n\n",
        "\n",
        "promedio_1comp= promedio_acurracy(total_accuracy_1comp)\n",
        "promedio_2comp= promedio_acurracy(total_accuracy_2comp)\n",
        "promedio_3comp= promedio_acurracy(total_accuracy_3comp)\n",
        "promedio_4comp= promedio_acurracy(total_accuracy_4comp)\n",
        "\n",
        "print(\"Promedio de Acurracy 1 componente principal:\",promedio_1comp,\"\\n\")\n",
        "print(\"Promedio de Acurracy 2 componente principal:\",promedio_2comp,\"\\n\")\n",
        "print(\"Promedio de Acurracy 3 componente principal:\",promedio_3comp,\"\\n\")\n",
        "print(\"Promedio de Acurracy 4 componente principal:\",promedio_4comp,\"\\n\")"
      ],
      "metadata": {
        "colab": {
          "base_uri": "https://localhost:8080/"
        },
        "id": "WZaWA6feIE41",
        "outputId": "afd1270e-7a42-4442-bd38-762b6c34575d"
      },
      "execution_count": 55,
      "outputs": [
        {
          "output_type": "stream",
          "name": "stdout",
          "text": [
            "Promedio de Acurracy 1 componente principal: 0.8277777777777778 \n",
            "\n",
            "Promedio de Acurracy 2 componente principal: 0.9444444444444443 \n",
            "\n",
            "Promedio de Acurracy 3 componente principal: 0.961111111111111 \n",
            "\n",
            "Promedio de Acurracy 4 componente principal: 0.95 \n",
            "\n"
          ]
        }
      ]
    },
    {
      "cell_type": "markdown",
      "source": [
        "# CONCLUSIÓN FINAL\n",
        "\n"
      ],
      "metadata": {
        "id": "gEMg0d-z8T0C"
      }
    },
    {
      "cell_type": "markdown",
      "source": [
        "\n",
        "- Con este TP entendimos , en primer lugar, la importancia que tiene Normalizar los datos de entrada para evitar que los valores más altos afecten los cálculos (Proline).\n",
        "\n",
        "- Una vez los datos normalizados, podemos calcular la **Matriz de Covarianza** de manera confiable y obtener sus autovalores y autovectores utilizando el **Método de la Potencia Extendido**.\n",
        "\n",
        "- Los autovalores nos servirán para poder predecir, mediante el **Modelo PCA**, cuántos componentes principales serán suficientes para realizar las estimaciones o recomendaciones.\n",
        "\n",
        "- Corroboramos nuestra implementación mediante gráficos y funciones para hasta cuatro componentes principales (excepto gráfico en este último caso).\n",
        "\n",
        "- Logramos observar que, del **Modelo PCA**, podemos concluir que con tan sólo dos componentes principales obtenemos una buena estimación.\n",
        "\n",
        "\n",
        "- Por último, esta misma experiencia se puede visualizar gracias a la **Matriz de Confusión** implementada, donde buscamos que sea lo más diagonal posible.\n",
        "\n",
        "- Realizamos una prueba adicional, donde hicimos 5 nuevas divisiones de la base de datos, de forma aleatoria,en matrices Test y Train. Calculamos el procentaje de acierto de nuestra estimación para cada una de las pruebas, con 1, 2,3 y 4 componentes principales. Luego, calculamos un promedio de los porcentajes de acierto para 1,2,3 y 4 componentes principales. Pudimos observar, que la performance se eleva hasta la 3° componente principal, a partir de la cual desciende.\n",
        "\n",
        "\n",
        "---\n",
        "\n",
        "En conclusión, este método nos ayudará a predecir una recomendación óptima utilizando la menor cantidad de recursos posibles, de tal forma que resulte en un algoritmo eficiente. Sin embargo, podemos ver, que para esto, en la búsqueda de un modelo óptimo, se debe encontrar el equilibro adecuado en la selección del número de componentes. Vemos que si elegimos muy pocos componentes, por ejemplo 1 componente principal, podemos estar perdiendo información relevante para la recomendación. Por otro lado, si elegimos demasiados, en nuestras pruebas a partir de 4 componentes principales, podemos estar teniendo en cuenta información que resulta ser irrelevante y \"ensucia\" la recomendación."
      ],
      "metadata": {
        "id": "k9glrvCCHLPV"
      }
    }
  ],
  "metadata": {
    "colab": {
      "provenance": [],
      "toc_visible": true
    },
    "kernelspec": {
      "display_name": "Python 3",
      "name": "python3"
    },
    "language_info": {
      "name": "python"
    }
  },
  "nbformat": 4,
  "nbformat_minor": 0
}